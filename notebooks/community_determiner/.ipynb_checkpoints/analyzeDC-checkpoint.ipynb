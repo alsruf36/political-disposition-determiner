{
 "cells": [
  {
   "cell_type": "code",
   "execution_count": 24,
   "id": "58cc4dc9-a876-42a3-bdd0-32994d34a2c4",
   "metadata": {
    "canvas": {
     "comments": [],
     "componentType": "CodeCell",
     "copiedOriginId": null,
     "diskcache": false,
     "headerColor": "inherit",
     "id": "48de81f0-49ce-4311-864b-0d599074dd1f",
     "isComponent": false,
     "name": "",
     "parents": []
    }
   },
   "outputs": [],
   "source": [
    "import requests\n",
    "from pymongo import MongoClient\n",
    "import hashlib\n",
    "import pprint"
   ]
  },
  {
   "cell_type": "code",
   "execution_count": 35,
   "id": "4d493394-ab8f-4b4d-899c-0d4fdf2ee94e",
   "metadata": {
    "canvas": {
     "comments": [],
     "componentType": "CodeCell",
     "copiedOriginId": null,
     "diskcache": false,
     "headerColor": "inherit",
     "id": "2127790d-70fa-4c01-ace0-64f1a6de1e78",
     "isComponent": false,
     "name": "",
     "parents": []
    },
    "tags": []
   },
   "outputs": [],
   "source": [
    "def create_document(data, min_len):\n",
    "    title = data[2]\n",
    "    timestamp = data[1]\n",
    "    body = data[0]\n",
    "    \n",
    "    if len(body) < min_len:\n",
    "        return None\n",
    "\n",
    "    sentences = requests.get(\n",
    "                                \"https://api.kshs.dev/analyze\",\n",
    "                                 params={\"sentence\": body, \"clean\": \"true\", \"plural\": \"true\"}\n",
    "                            ).json()\n",
    "    \n",
    "    sentence_id = 0\n",
    "    sentence_arr = []\n",
    "    \n",
    "    cons = 0\n",
    "    pros = 0\n",
    "    for sentence in sentences:\n",
    "        if len(sentence[0]) < 10:\n",
    "            tend = 2\n",
    "            \n",
    "        else:\n",
    "            tend = sentence[1]\n",
    "            if tend == 0:\n",
    "                cons += 1\n",
    "            \n",
    "            elif tend == 1:\n",
    "                pros += 1\n",
    "            \n",
    "        sentence_arr.append({\n",
    "            \"id\": sentence_id,\n",
    "            \"text\": sentence[0],\n",
    "            \"tend\": tend\n",
    "        })\n",
    "        \n",
    "        sentence_id += 1\n",
    "        \n",
    "    if cons == pros:\n",
    "        article_tend = 2\n",
    "    \n",
    "    elif cons > pros:\n",
    "        article_tend = 0\n",
    "        \n",
    "    elif cons < pros:\n",
    "        article_tend = 1\n",
    "        \n",
    "    else:\n",
    "        pass\n",
    "        \n",
    "    uname = str(timestamp)+title\n",
    "    return {\n",
    "        \"_id\": hashlib.sha256(uname.encode()).hexdigest(),\n",
    "        \"title\": title,\n",
    "        \"timestamp\": timestamp,\n",
    "        \"tend\": article_tend,\n",
    "        \"cons\": cons,\n",
    "        \"pros\": pros,\n",
    "        \"body\": sentence_arr\n",
    "    }\n",
    "\n",
    "def insert_document(document, cur):\n",
    "    cur.update_one(\n",
    "        {\"_id\": document['_id']},\n",
    "        {\"$set\": document},\n",
    "        upsert = True\n",
    "    )"
   ]
  },
  {
   "cell_type": "code",
   "execution_count": null,
   "id": "8172ca15-66e7-420a-a8cd-fdd6689b84c2",
   "metadata": {
    "canvas": {
     "comments": [],
     "componentType": "CodeCell",
     "copiedOriginId": "fa13c931-16ce-4d0f-bf8d-44e78c847839",
     "diskcache": false,
     "headerColor": "inherit",
     "id": "4e68d031-4ce3-4399-a38f-21a100323668",
     "isComponent": false,
     "name": "",
     "parents": []
    }
   },
   "outputs": [
    {
     "name": "stdout",
     "output_type": "stream",
     "text": [
      "{'_id': '1eed96f68fb47bdf971930c57716910bbaecd60bf4b93ac6353f310d9a5e2e82',\n",
      " 'body': [{'id': 0,\n",
      "           'tend': 1,\n",
      "           'text': '\"어차피 spc안망한다\", \"포켓몬빵이나 먹던것들이 무슨 불매? 어차피 소용없다\" 이렇게 불매운동에 대해 '\n",
      "                   '부정적이고 폄하하는 몇몇 사람들이 보임 이번 평택사망사고 일주일전에도 사고가 발생했고, 불과 3일전에도 '\n",
      "                   '또 spc공장에서 손가락 절단 사고가 발생함 분명 같은 사고가 매해 지속적으로 발생하는건 spc안전관리에 '\n",
      "                   '하자가 있단거임.'},\n",
      "          {'id': 1,\n",
      "           'tend': 1,\n",
      "           'text': '난 이번 spc 불매운동으로 기업을 망하게 하겠다는 의미보단 \"기업인의 태도 변화\"에 중점을 두고 참여 '\n",
      "                   '할란다.'},\n",
      "          {'id': 2, 'tend': 1, 'text': '몇몇사람들이라도 목소리를 내야 바뀌지, 다 침묵 하면 그거야'},\n",
      "          {'id': 3, 'tend': 1, 'text': '말로 개1돼지가 아니고 모겠노'}],\n",
      " 'cons': 0,\n",
      " 'pros': 4,\n",
      " 'tend': 1,\n",
      " 'timestamp': 1666716247.0,\n",
      " 'title': 'Spc 불매운동은 개인의 선택이지만 폄하는 하지 않았으면 함'}\n"
     ]
    }
   ],
   "source": [
    "data_l = ['\"어차피 spc안망한다\", \"포켓몬빵이나 먹던것들이 무슨 불매? 어차피 소용없다\" 이렇게 불매운동에 대해 부정적이고 폄하하는 몇몇 사람들이 보임  이번 평택사망사고 일주일전에도 사고가 발생했고, 불과 3일전에도 또 spc공장에서 손가락 절단 사고가 발생함 분명 같은 사고가 매해 지속적으로 발생하는건 spc안전관리에 하자가 있단거임.  난 이번 spc 불매운동으로 기업을 망하게 하겠다는 의미보단 \"기업인의 태도 변화\"에 중점을 두고 참여 할란다.  몇몇사람들이라도 목소리를 내야 바뀌지, 다 침묵 하면 그거야 말로 개1돼지가 아니고 모겠노', 1666716247.0, 'Spc 불매운동은 개인의 선택이지만 폄하는 하지 않았으면 함']\n",
    "\n",
    "res = create_document(data_l, 20)\n",
    "pprint(res)"
   ]
  }
 ],
 "metadata": {
  "canvas": {
   "colorPalette": [
    "inherit",
    "inherit",
    "inherit",
    "inherit",
    "inherit",
    "inherit",
    "inherit",
    "inherit",
    "inherit",
    "inherit"
   ],
   "parameters": [],
   "version": "1.0"
  },
  "kernelspec": {
   "display_name": "Python 3 (ipykernel)",
   "language": "python",
   "name": "python3"
  },
  "language_info": {
   "codemirror_mode": {
    "name": "ipython",
    "version": 3
   },
   "file_extension": ".py",
   "mimetype": "text/x-python",
   "name": "python",
   "nbconvert_exporter": "python",
   "pygments_lexer": "ipython3",
   "version": "3.7.12"
  }
 },
 "nbformat": 4,
 "nbformat_minor": 5
}

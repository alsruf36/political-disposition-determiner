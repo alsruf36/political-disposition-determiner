{
 "cells": [
  {
   "cell_type": "code",
   "execution_count": 2,
   "id": "803c9841-24c5-42cb-9517-52125e2e2217",
   "metadata": {
    "canvas": {
     "comments": [],
     "componentType": "CodeCell",
     "copiedOriginId": "abc34158-4712-4639-8b22-169d947f977f",
     "diskcache": false,
     "headerColor": "inherit",
     "id": "72285530-adb0-4346-94ad-bafa177e48be",
     "isComponent": false,
     "name": "",
     "parents": []
    },
    "tags": []
   },
   "outputs": [],
   "source": [
    "import requests\n",
    "from pymongo import MongoClient\n",
    "\n",
    "AuthMongoClient = MongoClient(\"mongodb://@:27010\", authSource=\"admin\")\n",
    "dbclient = AuthMongoClient\n",
    "db = dbclient['community']\n",
    "cur = db['dcinside']"
   ]
  },
  {
   "cell_type": "code",
   "execution_count": 29,
   "id": "48eaccda-4a24-4589-a9b4-951f535ec257",
   "metadata": {
    "canvas": {
     "comments": [],
     "componentType": "CodeCell",
     "copiedOriginId": "4ca8a015-daee-4ff8-bb98-460bd6ff6d01",
     "diskcache": false,
     "headerColor": "inherit",
     "id": "15fcd14e-056d-4525-8ef0-635261510110",
     "isComponent": false,
     "name": "",
     "parents": []
    },
    "tags": []
   },
   "outputs": [],
   "source": [
    "def get_article_list(limit, gallId):\n",
    "    queue = {\"galleryID\": {\"$eq\": gallId}}\n",
    "    res = list(cur.find(queue).limit(limit))\n",
    "    return res\n",
    "\n",
    "def analyze_tend_with_limit(limit, gallId):\n",
    "    res = get_article_list(limit, gallId)\n",
    "    \n",
    "    cons = 0\n",
    "    pros = 0\n",
    "    nones = 0\n",
    "    for r in res:\n",
    "        if r['tend'] == 0:\n",
    "            cons +=  1\n",
    "            \n",
    "        elif r['tend'] == 1:\n",
    "            pros += 1\n",
    "            \n",
    "        else:\n",
    "            nones += 1\n",
    "            \n",
    "    cons_percent = float(cons)/float(cons + pros)\n",
    "    cons_percent = round(cons_percent,3)\n",
    "    pros_percent = float(1) - cons_percent\n",
    "            \n",
    "    return {\n",
    "        \"cons\": cons,\n",
    "        \"pros\": pros,\n",
    "        \"nones\": nones,\n",
    "        \"cons_percent\": cons_percent * 100,\n",
    "        \"pros_percent\": pros_percent * 100\n",
    "    }"
   ]
  },
  {
   "cell_type": "code",
   "execution_count": 30,
   "id": "a0ef85f0-a119-4408-b735-0f3731c06fdb",
   "metadata": {
    "canvas": {
     "comments": [],
     "componentType": "CodeCell",
     "copiedOriginId": "842cbe8c-f4e5-4493-9d3a-5727cacadb69",
     "diskcache": false,
     "headerColor": "inherit",
     "id": "5d839bd5-9be8-495a-a1b3-14b20c8a5613",
     "isComponent": false,
     "name": "",
     "parents": []
    }
   },
   "outputs": [
    {
     "name": "stdout",
     "output_type": "stream",
     "text": [
      "{'cons': 9, 'pros': 14, 'nones': 1, 'cons_percent': 39.1, 'pros_percent': 60.9}\n"
     ]
    }
   ],
   "source": [
    "#print(get_article_list(3, \"newconservativeparty\"))\n",
    "\n",
    "print(analyze_tend_with_limit(100, \"newconservativeparty\"))"
   ]
  }
 ],
 "metadata": {
  "canvas": {
   "colorPalette": [
    "inherit",
    "inherit",
    "inherit",
    "inherit",
    "inherit",
    "inherit",
    "inherit",
    "inherit",
    "inherit",
    "inherit"
   ],
   "parameters": [],
   "version": "1.0"
  },
  "kernelspec": {
   "display_name": "Python 3 (ipykernel)",
   "language": "python",
   "name": "python3"
  },
  "language_info": {
   "codemirror_mode": {
    "name": "ipython",
    "version": 3
   },
   "file_extension": ".py",
   "mimetype": "text/x-python",
   "name": "python",
   "nbconvert_exporter": "python",
   "pygments_lexer": "ipython3",
   "version": "3.7.12"
  }
 },
 "nbformat": 4,
 "nbformat_minor": 5
}
